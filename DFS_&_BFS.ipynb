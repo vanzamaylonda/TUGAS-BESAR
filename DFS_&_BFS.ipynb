{
  "nbformat": 4,
  "nbformat_minor": 0,
  "metadata": {
    "colab": {
      "name": "DFS & BFS.ipynb",
      "provenance": [],
      "collapsed_sections": [],
      "mount_file_id": "1I1B2iTDEMSa0uLVJqFXZHerCOdpUrMXz",
      "authorship_tag": "ABX9TyO9WTGE+TTeFbYVlrpH9w21",
      "include_colab_link": true
    },
    "kernelspec": {
      "name": "python3",
      "display_name": "Python 3"
    },
    "language_info": {
      "name": "python"
    }
  },
  "cells": [
    {
      "cell_type": "markdown",
      "metadata": {
        "id": "view-in-github",
        "colab_type": "text"
      },
      "source": [
        "<a href=\"https://colab.research.google.com/github/vanzamaylonda/TUGAS-BESAR/blob/main/DFS_%26_BFS.ipynb\" target=\"_parent\"><img src=\"https://colab.research.google.com/assets/colab-badge.svg\" alt=\"Open In Colab\"/></a>"
      ]
    },
    {
      "cell_type": "code",
      "metadata": {
        "colab": {
          "base_uri": "https://localhost:8080/"
        },
        "id": "sgkSfJghFow7",
        "outputId": "c8d3df46-284a-4e49-9c9b-d50974cdc3ad"
      },
      "source": [
        "from google.colab import drive\n",
        "drive.mount('/content/drive')\n",
        "sample_text = open(\"/content/drive/MyDrive/Sistem Cerdas/sample.txt\")\n",
        "txt = sample_text.readlines()\n",
        "print(txt)"
      ],
      "execution_count": 1,
      "outputs": [
        {
          "output_type": "stream",
          "name": "stdout",
          "text": [
            "Drive already mounted at /content/drive; to attempt to forcibly remount, call drive.mount(\"/content/drive\", force_remount=True).\n",
            "['8 13\\n', 'S G\\n', 'S A 6\\n', 'S B 2\\n', 'S C 1\\n', 'A D 3\\n', 'A G 20\\n', 'B D 2\\n', 'B E 6\\n', 'C B 3\\n', 'C E 6\\n', 'C F 4\\n', 'D F 5\\n', 'E G 2\\n', 'F G 1\\n']\n"
          ]
        }
      ]
    },
    {
      "cell_type": "code",
      "metadata": {
        "colab": {
          "base_uri": "https://localhost:8080/"
        },
        "id": "AxSNGYtXFvH0",
        "outputId": "8aee0966-9013-496f-9e22-5c1db261fc2a"
      },
      "source": [
        "total_nodes, total_edges = txt[0].split()\n",
        "start, goal = txt[1].split()\n",
        "start_node=[]\n",
        "end_node=[]\n",
        "cost = []\n",
        "for i in range(2,len(txt)):\n",
        "  a, b, c = txt[i].split()\n",
        "  start_node.append(a)\n",
        "  end_node.append(b)\n",
        "  cost.append(c)\n",
        "print(\"Start node:\",start,\"\\nEnd node: \", goal,\"\\nTotal nodes=\",total_nodes,\"\\nTotal edges= \",total_edges)\n",
        "for i,j,k in zip(start_node, end_node, cost):\n",
        "  print(i,\"->\",j,\"=\",k)"
      ],
      "execution_count": 2,
      "outputs": [
        {
          "output_type": "stream",
          "name": "stdout",
          "text": [
            "Start node: S \n",
            "End node:  G \n",
            "Total nodes= 8 \n",
            "Total edges=  13\n",
            "S -> A = 6\n",
            "S -> B = 2\n",
            "S -> C = 1\n",
            "A -> D = 3\n",
            "A -> G = 20\n",
            "B -> D = 2\n",
            "B -> E = 6\n",
            "C -> B = 3\n",
            "C -> E = 6\n",
            "C -> F = 4\n",
            "D -> F = 5\n",
            "E -> G = 2\n",
            "F -> G = 1\n"
          ]
        }
      ]
    },
    {
      "cell_type": "code",
      "metadata": {
        "colab": {
          "base_uri": "https://localhost:8080/"
        },
        "id": "OcO3LBUvFzCE",
        "outputId": "fc314629-7312-4302-d2ba-76532df406c6"
      },
      "source": [
        "temp1 = set(start_node)\n",
        "temp2 = set(end_node)\n",
        "total_states = temp1.union(temp2)\n",
        "print(\"Total states= \",total_states)\n",
        "total_states = list(total_states)"
      ],
      "execution_count": 3,
      "outputs": [
        {
          "output_type": "stream",
          "name": "stdout",
          "text": [
            "Total states=  {'G', 'B', 'D', 'C', 'F', 'S', 'E', 'A'}\n"
          ]
        }
      ]
    },
    {
      "cell_type": "code",
      "metadata": {
        "colab": {
          "base_uri": "https://localhost:8080/"
        },
        "id": "UblcUtkqF2nF",
        "outputId": "1d30f392-49d3-41ad-a4ad-259c120e440c"
      },
      "source": [
        "values = dict()\n",
        "j = 0\n",
        "for i in total_states:\n",
        "  values[i] = j\n",
        "  j = j + 1\n",
        "print(values)"
      ],
      "execution_count": 4,
      "outputs": [
        {
          "output_type": "stream",
          "name": "stdout",
          "text": [
            "{'G': 0, 'B': 1, 'D': 2, 'C': 3, 'F': 4, 'S': 5, 'E': 6, 'A': 7}\n"
          ]
        }
      ]
    },
    {
      "cell_type": "code",
      "metadata": {
        "colab": {
          "base_uri": "https://localhost:8080/"
        },
        "id": "phZ3xjCqGx69",
        "outputId": "fd594129-51db-4a6a-c523-2438eecc932f"
      },
      "source": [
        "matrix = []\n",
        "for i in total_states:\n",
        "  x = []\n",
        "  for j in total_states:\n",
        "    flag = 0\n",
        "    for k in range(0, len(start_node)):\n",
        "        if(i == start_node[k] and j == end_node[k]):\n",
        "          x.append(int(cost[k]))\n",
        "          flag = 1\n",
        "          break\n",
        "    if(flag == 0):\n",
        "      x.append(0)\n",
        "  print('\\n')\n",
        "  matrix.append(x)"
      ],
      "execution_count": 5,
      "outputs": [
        {
          "output_type": "stream",
          "name": "stdout",
          "text": [
            "\n",
            "\n",
            "\n",
            "\n",
            "\n",
            "\n",
            "\n",
            "\n",
            "\n",
            "\n",
            "\n",
            "\n",
            "\n",
            "\n",
            "\n",
            "\n"
          ]
        }
      ]
    },
    {
      "cell_type": "code",
      "metadata": {
        "colab": {
          "base_uri": "https://localhost:8080/"
        },
        "id": "lY8VEr7jG12R",
        "outputId": "44c8d1de-d210-460a-9ea5-97884953919a"
      },
      "source": [
        "print(\"   \",end='')\n",
        "for i in total_states:\n",
        "  print(\" \",i, end='')\n",
        "print(\"\\n\")\n",
        "for i,j in zip(matrix, total_states):\n",
        "  print(j,\" \",i)"
      ],
      "execution_count": 6,
      "outputs": [
        {
          "output_type": "stream",
          "name": "stdout",
          "text": [
            "     G  B  D  C  F  S  E  A\n",
            "\n",
            "G   [0, 0, 0, 0, 0, 0, 0, 0]\n",
            "B   [0, 0, 2, 0, 0, 0, 6, 0]\n",
            "D   [0, 0, 0, 0, 5, 0, 0, 0]\n",
            "C   [0, 3, 0, 0, 4, 0, 6, 0]\n",
            "F   [1, 0, 0, 0, 0, 0, 0, 0]\n",
            "S   [0, 2, 0, 1, 0, 0, 0, 6]\n",
            "E   [2, 0, 0, 0, 0, 0, 0, 0]\n",
            "A   [20, 0, 3, 0, 0, 0, 0, 0]\n"
          ]
        }
      ]
    },
    {
      "cell_type": "code",
      "metadata": {
        "colab": {
          "base_uri": "https://localhost:8080/"
        },
        "id": "6X3Qtq8eG5W_",
        "outputId": "6844fbd8-fb45-464d-d2bc-f2714fa97e8c"
      },
      "source": [
        "#search algorithms DFS\n",
        "graph = dict()\n",
        "for i in total_states:\n",
        "  b = []\n",
        "  for k in total_states:\n",
        "    if (matrix[values[i]][values[k]] != 0):\n",
        "      b.append(total_states[values[k]])\n",
        "  graph[i] = b\n",
        "visited = set() \n",
        "print(\"The visited nodes are: \",end='')\n",
        "def dfs(visited, graph, node):\n",
        "    if node not in visited:\n",
        "        print (node,end = \" \")\n",
        "        visited.add(node)\n",
        "        for neighbour in graph[node]:\n",
        "            dfs(visited, graph, neighbour)\n",
        "\n",
        "dfs(visited, graph, start)"
      ],
      "execution_count": 7,
      "outputs": [
        {
          "output_type": "stream",
          "name": "stdout",
          "text": [
            "The visited nodes are: S B D F G E C A "
          ]
        }
      ]
    },
    {
      "cell_type": "code",
      "metadata": {
        "colab": {
          "base_uri": "https://localhost:8080/"
        },
        "id": "vN5RWcG9G8tB",
        "outputId": "6b00c6fd-ee9f-4d7f-87c1-a85c7bb9fd9b"
      },
      "source": [
        "#search algorithms BFS\n",
        "visited = [] \n",
        "queue = []     \n",
        "def bfs(visited, graph, node):\n",
        "  visited.append(node)\n",
        "  queue.append(node)\n",
        "  print(\"The visited nodes are: \",end='')\n",
        "  while queue:\n",
        "    s = queue.pop(0) \n",
        "    print (s,end=\" \") \n",
        "    for neighbour in graph[s]:\n",
        "      if neighbour not in visited:\n",
        "        visited.append(neighbour)\n",
        "        queue.append(neighbour)\n",
        "\n",
        "bfs(visited, graph, start)"
      ],
      "execution_count": 8,
      "outputs": [
        {
          "output_type": "stream",
          "name": "stdout",
          "text": [
            "The visited nodes are: S B C A D E F G "
          ]
        }
      ]
    }
  ]
}