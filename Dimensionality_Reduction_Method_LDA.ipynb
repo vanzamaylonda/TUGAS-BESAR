{
  "nbformat": 4,
  "nbformat_minor": 0,
  "metadata": {
    "colab": {
      "name": "Dimensionality_Reduction_Method_LDA.ipynb",
      "provenance": [],
      "collapsed_sections": [],
      "mount_file_id": "1ufMcg2qTZ-s2I8pWAZXyycUTCW-pBEYr",
      "authorship_tag": "ABX9TyPmP2n8d621N8P6+u45B97x",
      "include_colab_link": true
    },
    "kernelspec": {
      "name": "python3",
      "display_name": "Python 3"
    },
    "language_info": {
      "name": "python"
    }
  },
  "cells": [
    {
      "cell_type": "markdown",
      "metadata": {
        "id": "view-in-github",
        "colab_type": "text"
      },
      "source": [
        "<a href=\"https://colab.research.google.com/github/vanzamaylonda/TUGAS-BESAR/blob/main/Dimensionality_Reduction_Method_LDA.ipynb\" target=\"_parent\"><img src=\"https://colab.research.google.com/assets/colab-badge.svg\" alt=\"Open In Colab\"/></a>"
      ]
    },
    {
      "cell_type": "code",
      "metadata": {
        "colab": {
          "base_uri": "https://localhost:8080/"
        },
        "id": "Rovgs-1720kk",
        "outputId": "9b522f74-0fbd-4ca2-c962-153d0b1e42e5"
      },
      "source": [
        "from google.colab import drive\n",
        "drive.mount('/content/drive')"
      ],
      "execution_count": 50,
      "outputs": [
        {
          "output_type": "stream",
          "text": [
            "Drive already mounted at /content/drive; to attempt to forcibly remount, call drive.mount(\"/content/drive\", force_remount=True).\n"
          ],
          "name": "stdout"
        }
      ]
    },
    {
      "cell_type": "code",
      "metadata": {
        "colab": {
          "base_uri": "https://localhost:8080/"
        },
        "id": "q_wHBCE_229D",
        "outputId": "2fc28a74-9f96-45cd-c7f0-f3d985ce749b"
      },
      "source": [
        "cd /content/drive/MyDrive/Colab Notebooks"
      ],
      "execution_count": 51,
      "outputs": [
        {
          "output_type": "stream",
          "text": [
            "/content/drive/MyDrive/Colab Notebooks\n"
          ],
          "name": "stdout"
        }
      ]
    },
    {
      "cell_type": "code",
      "metadata": {
        "colab": {
          "base_uri": "https://localhost:8080/"
        },
        "id": "PeWpzFMU29Ks",
        "outputId": "9f1d96c4-9227-42dd-93a7-37b989fd6267"
      },
      "source": [
        "ls"
      ],
      "execution_count": 52,
      "outputs": [
        {
          "output_type": "stream",
          "text": [
            " \u001b[0m\u001b[01;34m3scene\u001b[0m/                                     Klasifikasi_FA_Data_Cancer.ipynb\n",
            " AutoCorelation.ipynb                        Klasifikasi_LDA_Data_Cancer.ipynb\n",
            " best_model_fa.h5                            Klasifikasi_PCA_Data_Cancer.ipynb\n",
            " best_model_lda.h5                           TEST_forest-photography.jpg\n",
            " best_model_PCA.h5                           TEST_Highway.jpg\n",
            " data_cancer.csv                            'Tugas 2 SLO.ipynb'\n",
            " Dimensionality_Reduction_Method_FA.ipynb    Tugas8.ipynb\n",
            " Dimensionality_Reduction_Method_LDA.ipynb   Untitled\n",
            " Dimensionality_Reduction_Method_PCA.ipynb   UTS1.ipynb\n"
          ],
          "name": "stdout"
        }
      ]
    },
    {
      "cell_type": "code",
      "metadata": {
        "id": "4RKuDhlab1Mk"
      },
      "source": [
        "import matplotlib.pyplot as plt "
      ],
      "execution_count": 53,
      "outputs": []
    },
    {
      "cell_type": "code",
      "metadata": {
        "id": "zybIXYLlb_kK"
      },
      "source": [
        "from sklearn import datasets\n",
        "from sklearn.decomposition import PCA\n",
        "from sklearn.discriminant_analysis import LinearDiscriminantAnalysis"
      ],
      "execution_count": 54,
      "outputs": []
    },
    {
      "cell_type": "code",
      "metadata": {
        "id": "OdUBrrEEcSzA"
      },
      "source": [
        "iris = datasets.load_iris()"
      ],
      "execution_count": 55,
      "outputs": []
    },
    {
      "cell_type": "code",
      "metadata": {
        "id": "TTW0QYNCcS3W"
      },
      "source": [
        "X = iris.data\n",
        "y = iris.target\n",
        "target_names = iris.target_names"
      ],
      "execution_count": 56,
      "outputs": []
    },
    {
      "cell_type": "code",
      "metadata": {
        "id": "KxM9KidXcS94"
      },
      "source": [
        "pca = PCA(n_components=2)\n",
        "X_r = pca.fit(X).transform(X)"
      ],
      "execution_count": 57,
      "outputs": []
    },
    {
      "cell_type": "code",
      "metadata": {
        "id": "peXrflwRcTCd"
      },
      "source": [
        "lda = LinearDiscriminantAnalysis(n_components=2)\n",
        "X_r2 = lda.fit(X, y).transform(X)"
      ],
      "execution_count": 58,
      "outputs": []
    },
    {
      "cell_type": "code",
      "metadata": {
        "colab": {
          "base_uri": "https://localhost:8080/"
        },
        "id": "rwYsz4pMcTHT",
        "outputId": "76beccfc-3afe-4488-f842-8f3eb011264a"
      },
      "source": [
        "print('explained variance ratio (first two components): %s'\n",
        "% str(pca.explained_variance_ratio_)) "
      ],
      "execution_count": 59,
      "outputs": [
        {
          "output_type": "stream",
          "text": [
            "explained variance ratio (first two components): [0.92461872 0.05306648]\n"
          ],
          "name": "stdout"
        }
      ]
    },
    {
      "cell_type": "code",
      "metadata": {
        "colab": {
          "base_uri": "https://localhost:8080/",
          "height": 34
        },
        "id": "r6GNBH6tdVYj",
        "outputId": "d1199549-c2e1-4342-9935-1302be1dbb76"
      },
      "source": [
        "plt.figure()\n",
        "colors = ['navy', 'turquoise', 'darkorange']\n",
        "lw = 2 "
      ],
      "execution_count": 60,
      "outputs": [
        {
          "output_type": "display_data",
          "data": {
            "text/plain": [
              "<Figure size 432x288 with 0 Axes>"
            ]
          },
          "metadata": {
            "tags": []
          }
        }
      ]
    },
    {
      "cell_type": "code",
      "metadata": {
        "colab": {
          "base_uri": "https://localhost:8080/",
          "height": 269
        },
        "id": "kobOAI6odVbx",
        "outputId": "add6db5d-15b4-4083-94e3-63db98d33642"
      },
      "source": [
        "for color, i, target_name in zip(colors, [0, 1, 2], target_names):\n",
        "  plt.scatter(X_r[y == i, 0], X_r[y == i, 1], color=color, alpha=.8, lw=lw,\n",
        "              label=target_name)"
      ],
      "execution_count": 61,
      "outputs": [
        {
          "output_type": "display_data",
          "data": {
            "image/png": "[encoded data removed]",
            "text/plain": [
              "<Figure size 432x288 with 1 Axes>"
            ]
          },
          "metadata": {
            "tags": [],
            "needs_background": "light"
          }
        }
      ]
    },
    {
      "cell_type": "code",
      "metadata": {
        "colab": {
          "base_uri": "https://localhost:8080/",
          "height": 315
        },
        "id": "l9FQ3YLfdVd8",
        "outputId": "2ffcfc53-b5be-4d70-e093-7a1fa34dc39f"
      },
      "source": [
        "plt.legend(loc='best', shadow=False, scatterpoints=1)\n",
        "plt.title('PCA of data_cancer.csv dataset')"
      ],
      "execution_count": 62,
      "outputs": [
        {
          "output_type": "stream",
          "text": [
            "No handles with labels found to put in legend.\n"
          ],
          "name": "stderr"
        },
        {
          "output_type": "execute_result",
          "data": {
            "text/plain": [
              "Text(0.5, 1.0, 'PCA of data_cancer.csv dataset')"
            ]
          },
          "metadata": {
            "tags": []
          },
          "execution_count": 62
        },
        {
          "output_type": "display_data",
          "data": {
            "image/png": "[encoded data removed]",
            "text/plain": [
              "<Figure size 432x288 with 1 Axes>"
            ]
          },
          "metadata": {
            "tags": [],
            "needs_background": "light"
          }
        }
      ]
    },
    {
      "cell_type": "code",
      "metadata": {
        "colab": {
          "base_uri": "https://localhost:8080/",
          "height": 269
        },
        "id": "YFRrnzVldVg1",
        "outputId": "0eb11989-7b79-4053-d5e0-387e678cedfa"
      },
      "source": [
        "plt.figure()\n",
        "for color, i, target_name in zip(colors, [0, 1, 2], target_names):\n",
        "  plt.scatter(X_r2[y == i, 0], X_r2[y == i, 1], alpha=.8, color=color,\n",
        "              label=target_name)"
      ],
      "execution_count": 63,
      "outputs": [
        {
          "output_type": "display_data",
          "data": {
            "image/png": "[encoded data removed]",
            "text/plain": [
              "<Figure size 432x288 with 1 Axes>"
            ]
          },
          "metadata": {
            "tags": [],
            "needs_background": "light"
          }
        }
      ]
    },
    {
      "cell_type": "code",
      "metadata": {
        "colab": {
          "base_uri": "https://localhost:8080/",
          "height": 315
        },
        "id": "gTAXUlPRdVjB",
        "outputId": "bbe79964-8269-4892-a31c-974c5c983a57"
      },
      "source": [
        "plt.legend(loc='best', shadow=False, scatterpoints=1)\n",
        "plt.title('LDA of data_cancer.csv dataset')"
      ],
      "execution_count": 64,
      "outputs": [
        {
          "output_type": "stream",
          "text": [
            "No handles with labels found to put in legend.\n"
          ],
          "name": "stderr"
        },
        {
          "output_type": "execute_result",
          "data": {
            "text/plain": [
              "Text(0.5, 1.0, 'LDA of data_cancer.csv dataset')"
            ]
          },
          "metadata": {
            "tags": []
          },
          "execution_count": 64
        },
        {
          "output_type": "display_data",
          "data": {
            "image/png": "[encoded data removed]",
            "text/plain": [
              "<Figure size 432x288 with 1 Axes>"
            ]
          },
          "metadata": {
            "tags": [],
            "needs_background": "light"
          }
        }
      ]
    },
    {
      "cell_type": "code",
      "metadata": {
        "id": "H3FKHozddVll"
      },
      "source": [
        "plt.show()"
      ],
      "execution_count": 65,
      "outputs": []
    }
  ]
}