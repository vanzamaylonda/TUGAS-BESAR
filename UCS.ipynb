{
  "nbformat": 4,
  "nbformat_minor": 0,
  "metadata": {
    "colab": {
      "name": "UCS.ipynb",
      "provenance": [],
      "mount_file_id": "1PL8inXp061R_RYLob0kkFQS3LXxUTWBb",
      "authorship_tag": "ABX9TyPXNOMZruyywftQ6C5I0FvW",
      "include_colab_link": true
    },
    "kernelspec": {
      "name": "python3",
      "display_name": "Python 3"
    },
    "language_info": {
      "name": "python"
    }
  },
  "cells": [
    {
      "cell_type": "markdown",
      "metadata": {
        "id": "view-in-github",
        "colab_type": "text"
      },
      "source": [
        "<a href=\"https://colab.research.google.com/github/vanzamaylonda/TUGAS-BESAR/blob/main/UCS.ipynb\" target=\"_parent\"><img src=\"https://colab.research.google.com/assets/colab-badge.svg\" alt=\"Open In Colab\"/></a>"
      ]
    },
    {
      "cell_type": "code",
      "metadata": {
        "colab": {
          "base_uri": "https://localhost:8080/"
        },
        "id": "VOsppv63MS24",
        "outputId": "fd41cabd-6482-46e3-9e45-e6bc04164db7"
      },
      "source": [
        "from google.colab import drive\n",
        "drive.mount('/content/drive')\n",
        "sample_text = open(\"/content/drive/MyDrive/Sistem Cerdas/1/Project-1/data/cities.csv\")\n",
        "txt = sample_text.readlines()\n",
        "print(txt)"
      ],
      "execution_count": 7,
      "outputs": [
        {
          "output_type": "stream",
          "name": "stdout",
          "text": [
            "Drive already mounted at /content/drive; to attempt to forcibly remount, call drive.mount(\"/content/drive\", force_remount=True).\n",
            "['city1,city2,distance\\n', 'Balıkesir,Çanakkale,95\\n', 'Çanakkale,İstanbul,125\\n', 'Balıkesir,İstanbul,155\\n', 'İzmir,Balıkesir,140\\n', 'İzmir,Eskişehir,220\\n', 'İstanbul,Eskişehir,130\\n', 'İstanbul,Samsun,215\\n', 'Eskişehir,Ankara,70\\n', 'Eskişehir,Konya,120\\n', 'Ankara,Konya,95\\n', 'İzmir,Muğla,190\\n', 'Muğla,Konya,85\\n', 'Muğla,Antalya,80\\n', 'Antalya,Adana,80\\n', 'Samsun,Trabzon,120\\n', 'Ankara,Samsun,115\\n', 'Kayseri,Konya,185\\n', 'Kayseri,Trabzon,110\\n', 'Trabzon,Rize,75\\n', 'Kayseri,Diyarbakır,145\\n', 'Kayseri,Adana,245\\n', 'Rize,Diyarbakır,165']\n"
          ]
        }
      ]
    },
    {
      "cell_type": "code",
      "metadata": {
        "id": "x4mAWmdULoYe"
      },
      "source": [
        "import csv\n",
        "import math\n",
        "from queue import PriorityQueue"
      ],
      "execution_count": 8,
      "outputs": []
    },
    {
      "cell_type": "code",
      "metadata": {
        "id": "gaQ4VAbaL0hV"
      },
      "source": [
        "class CityNotFoundError(Exception):\n",
        "    def __init__(self, city):\n",
        "        print(\"%s does not exist\" % city)\n",
        "class FileNotFoundError(Exception):\n",
        "    def __init__(self):\n",
        "        print(\"The path does not exist\")\n",
        "class PathNotFoundEror(Exception):\n",
        "    def __init__(self,info):\n",
        "        print(\"The path between %s does not exist in this universe. Try at another one.\" %info)"
      ],
      "execution_count": 9,
      "outputs": []
    },
    {
      "cell_type": "code",
      "metadata": {
        "id": "b6Ijt63OL7fh"
      },
      "source": [
        "# Implement this function to read data into an appropriate data structure.\n",
        "def build_graph(path):\n",
        "    Map = {}\n",
        "    with open(path, encoding='utf-8') as csv_file:\n",
        "        csv_reader = csv.reader(csv_file, delimiter=',')\n",
        "        title_flag = 0\n",
        "        for row in csv_reader:\n",
        "            if not bool(title_flag):\n",
        "                title_flag += 1\n",
        "                continue\n",
        "            if row[0] not in Map:\n",
        "                Map[row[0]] = {}\n",
        "            if row[1] not in Map:\n",
        "                Map[row[1]] = {}\n",
        "            # Bi directional road\n",
        "            Map[row[0]][row[1]] = int(row[2])\n",
        "            Map[row[1]][row[0]] = int(row[2])\n",
        "            #print(\"From \" + row[0] + \" to \" + str(Map[row[0]]))\n",
        "\n",
        "    return Map\n"
      ],
      "execution_count": 11,
      "outputs": []
    },
    {
      "cell_type": "code",
      "metadata": {
        "id": "WMZQZ2BBMQ25"
      },
      "source": [
        "# Implement this function to perform uniform cost search on the graph.\n",
        "def uniform_cost_search(graph, start, end):\n",
        "    priority = 0\n",
        "\n",
        "    p_queue = PriorityQueue()\n",
        "    visited_nodes = []\n",
        "    p_queue.put((priority, start,[start]))\n",
        "    cumulative = 0\n",
        "\n",
        "\n",
        "    while not p_queue.empty():\n",
        "\n",
        "        city_tuple = p_queue.get()\n",
        "        cumulative = city_tuple[0]\n",
        "        city = city_tuple[1]\n",
        "        road_way = city_tuple[2]\n",
        "\n",
        "\n",
        "        visited_nodes.append(city)\n",
        "\n",
        "\n",
        "        if (city == end):\n",
        "            return\n",
        "        else:\n",
        "            for next in graph[city]:\n",
        "                if (next == end):\n",
        "                    visited_nodes.append(next)\n",
        "                    #print(visited_nodes)\n",
        "                    min_distance = graph[city][next] + cumulative\n",
        "                    print(min_distance)\n",
        "                    print(road_way+[end])\n",
        "                    return\n",
        "                if next not in visited_nodes:\n",
        "                    tempCity = next\n",
        "                    tempCum = graph[city][next] + cumulative\n",
        "                    #road_way.append(tempCity)\n",
        "                    p_queue.put((graph[city][next] + cumulative, next,road_way + [next]))\n",
        "\n",
        "    assert p_queue.empty()==False, (start, end)\n",
        "\n",
        "\n"
      ],
      "execution_count": 12,
      "outputs": []
    },
    {
      "cell_type": "code",
      "metadata": {
        "colab": {
          "base_uri": "https://localhost:8080/"
        },
        "id": "guLHOiozNCdG",
        "outputId": "9c2b00e5-f194-4ef4-a17a-3fac8ac2f97a"
      },
      "source": [
        "# Implement main to call functions with appropriate try-except blocks\n",
        "if __name__ == \"__main__\":\n",
        "    try:\n",
        "        Graph = build_graph(\"data/cities.csv\")\n",
        "        uniform_cost_search(Graph, \"İstanbul\", \"Antalya\")\n",
        "    except OSError:\n",
        "        FileNotFoundError()\n",
        "    except AssertionError as a:\n",
        "        PathNotFoundEror(a.args)"
      ],
      "execution_count": 13,
      "outputs": [
        {
          "output_type": "stream",
          "name": "stdout",
          "text": [
            "The path does not exist\n"
          ]
        }
      ]
    }
  ]
}