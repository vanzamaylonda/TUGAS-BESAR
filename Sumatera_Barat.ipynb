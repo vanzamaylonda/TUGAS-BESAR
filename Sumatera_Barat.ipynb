{
  "nbformat": 4,
  "nbformat_minor": 0,
  "metadata": {
    "colab": {
      "name": "Sumatera Barat.ipynb",
      "provenance": [],
      "mount_file_id": "19B7szMAwD_YcKSsNA5708XuAMm52A-Yb",
      "authorship_tag": "ABX9TyP0Qf49IjQBSK2Lv3LdXggC",
      "include_colab_link": true
    },
    "kernelspec": {
      "name": "python3",
      "display_name": "Python 3"
    },
    "language_info": {
      "name": "python"
    }
  },
  "cells": [
    {
      "cell_type": "markdown",
      "metadata": {
        "id": "view-in-github",
        "colab_type": "text"
      },
      "source": [
        "<a href=\"https://colab.research.google.com/github/vanzamaylonda/TUGAS-BESAR/blob/main/Sumatera_Barat.ipynb\" target=\"_parent\"><img src=\"https://colab.research.google.com/assets/colab-badge.svg\" alt=\"Open In Colab\"/></a>"
      ]
    },
    {
      "cell_type": "code",
      "metadata": {
        "colab": {
          "base_uri": "https://localhost:8080/"
        },
        "id": "VsEXD3-ePJxY",
        "outputId": "aa492c17-0a80-4a5c-9e7c-e150aed711b7"
      },
      "source": [
        "from google.colab import drive\n",
        "drive.mount('/content/drive')\n",
        "sample_text = open(\"/content/drive/MyDrive/Sistem Cerdas/sample1.txt\")\n",
        "txt = sample_text.readlines()\n",
        "print(txt)"
      ],
      "execution_count": 33,
      "outputs": [
        {
          "output_type": "stream",
          "name": "stdout",
          "text": [
            "Drive already mounted at /content/drive; to attempt to forcibly remount, call drive.mount(\"/content/drive\", force_remount=True).\n",
            "['8 13\\n', 'Pasaman Mentawai\\n', 'Pasaman Padang 60\\n', 'Bukittinggi Padang 30\\n', 'Bukittinggi Pariaman 40\\n', 'PadangPanjang Pariaman 30\\n', 'PadangPanjang Pessel 80\\n', 'Batusangka PesisirSelatan 90\\n', 'Batusangka SolokSelatan 60\\n', 'Payakumbuh SolokSelatan 80\\n', 'Payakumbuh Sijunjung 60\\n', 'Solok Sijunjung 50\\n', 'Solok Dharmasraya 60\\n', 'Sawahlunto Dharmasraya 30\\n', 'Sawahlunto Mentawai 100']\n"
          ]
        }
      ]
    },
    {
      "cell_type": "code",
      "metadata": {
        "colab": {
          "base_uri": "https://localhost:8080/"
        },
        "id": "eFAwntyrPkLd",
        "outputId": "583dab28-aaa7-491b-b86f-e596ef0fc669"
      },
      "source": [
        "total_nodes, total_edges = txt[0].split()\n",
        "start, goal = txt[1].split()\n",
        "start_node=[]\n",
        "end_node=[]\n",
        "cost = []\n",
        "for i in range(2,len(txt)):\n",
        "  a, b, c = txt[i].split()\n",
        "  start_node.append(a)\n",
        "  end_node.append(b)\n",
        "  cost.append(c)\n",
        "print(\"Start node:\",start,\"\\nEnd node: \", goal,\"\\nTotal nodes=\",total_nodes,\"\\nTotal edges= \",total_edges)\n",
        "for i,j,k in zip(start_node, end_node, cost):\n",
        "  print(i,\"->\",j,\"=\",k)"
      ],
      "execution_count": 34,
      "outputs": [
        {
          "output_type": "stream",
          "name": "stdout",
          "text": [
            "Start node: Pasaman \n",
            "End node:  Mentawai \n",
            "Total nodes= 8 \n",
            "Total edges=  13\n",
            "Pasaman -> Padang = 60\n",
            "Bukittinggi -> Padang = 30\n",
            "Bukittinggi -> Pariaman = 40\n",
            "PadangPanjang -> Pariaman = 30\n",
            "PadangPanjang -> Pessel = 80\n",
            "Batusangka -> PesisirSelatan = 90\n",
            "Batusangka -> SolokSelatan = 60\n",
            "Payakumbuh -> SolokSelatan = 80\n",
            "Payakumbuh -> Sijunjung = 60\n",
            "Solok -> Sijunjung = 50\n",
            "Solok -> Dharmasraya = 60\n",
            "Sawahlunto -> Dharmasraya = 30\n",
            "Sawahlunto -> Mentawai = 100\n"
          ]
        }
      ]
    },
    {
      "cell_type": "code",
      "metadata": {
        "colab": {
          "base_uri": "https://localhost:8080/"
        },
        "id": "YJgYKmi7TVWy",
        "outputId": "53f85cc3-55f9-4807-8afc-f7d8a26dc0e0"
      },
      "source": [
        "temp1 = set(start_node)\n",
        "temp2 = set(end_node)\n",
        "total_states = temp1.union(temp2)\n",
        "print(\"Total states= \",total_states)\n",
        "total_states = list(total_states)"
      ],
      "execution_count": 35,
      "outputs": [
        {
          "output_type": "stream",
          "name": "stdout",
          "text": [
            "Total states=  {'PesisirSelatan', 'Solok', 'SolokSelatan', 'Batusangka', 'Sawahlunto', 'Mentawai', 'Pasaman', 'Payakumbuh', 'Padang', 'Pessel', 'PadangPanjang', 'Dharmasraya', 'Pariaman', 'Sijunjung', 'Bukittinggi'}\n"
          ]
        }
      ]
    },
    {
      "cell_type": "code",
      "metadata": {
        "colab": {
          "base_uri": "https://localhost:8080/"
        },
        "id": "cH-3n7yjTXAI",
        "outputId": "884bfc8b-0f2c-4962-c5e1-bca9a0c0c770"
      },
      "source": [
        "values = dict()\n",
        "j = 0\n",
        "for i in total_states:\n",
        "  values[i] = j\n",
        "  j = j + 1\n",
        "print(values)"
      ],
      "execution_count": 36,
      "outputs": [
        {
          "output_type": "stream",
          "name": "stdout",
          "text": [
            "{'PesisirSelatan': 0, 'Solok': 1, 'SolokSelatan': 2, 'Batusangka': 3, 'Sawahlunto': 4, 'Mentawai': 5, 'Pasaman': 6, 'Payakumbuh': 7, 'Padang': 8, 'Pessel': 9, 'PadangPanjang': 10, 'Dharmasraya': 11, 'Pariaman': 12, 'Sijunjung': 13, 'Bukittinggi': 14}\n"
          ]
        }
      ]
    },
    {
      "cell_type": "code",
      "metadata": {
        "colab": {
          "base_uri": "https://localhost:8080/"
        },
        "id": "UKmuB1z0Tbrg",
        "outputId": "bcaf4918-9514-4c68-9fff-3a5c345ee771"
      },
      "source": [
        "matrix = []\n",
        "for i in total_states:\n",
        "  x = []\n",
        "  for j in total_states:\n",
        "    flag = 0\n",
        "    for k in range(0, len(start_node)):\n",
        "        if(i == start_node[k] and j == end_node[k]):\n",
        "          x.append(int(cost[k]))\n",
        "          flag = 1\n",
        "          break\n",
        "    if(flag == 0):\n",
        "      x.append(0)\n",
        "  print('\\n')\n",
        "  matrix.append(x)"
      ],
      "execution_count": 37,
      "outputs": [
        {
          "output_type": "stream",
          "name": "stdout",
          "text": [
            "\n",
            "\n",
            "\n",
            "\n",
            "\n",
            "\n",
            "\n",
            "\n",
            "\n",
            "\n",
            "\n",
            "\n",
            "\n",
            "\n",
            "\n",
            "\n",
            "\n",
            "\n",
            "\n",
            "\n",
            "\n",
            "\n",
            "\n",
            "\n",
            "\n",
            "\n",
            "\n",
            "\n",
            "\n",
            "\n"
          ]
        }
      ]
    },
    {
      "cell_type": "code",
      "metadata": {
        "colab": {
          "base_uri": "https://localhost:8080/"
        },
        "id": "IkiQfETZTf3U",
        "outputId": "b67d307d-d5d6-4657-e856-90bf6c8e11b8"
      },
      "source": [
        "print(\"   \",end='')\n",
        "for i in total_states:\n",
        "  print(\" \",i, end='')\n",
        "print(\"\\n\")\n",
        "for i,j in zip(matrix, total_states):\n",
        "  print(j,\" \",i)"
      ],
      "execution_count": 38,
      "outputs": [
        {
          "output_type": "stream",
          "name": "stdout",
          "text": [
            "     PesisirSelatan  Solok  SolokSelatan  Batusangka  Sawahlunto  Mentawai  Pasaman  Payakumbuh  Padang  Pessel  PadangPanjang  Dharmasraya  Pariaman  Sijunjung  Bukittinggi\n",
            "\n",
            "PesisirSelatan   [0, 0, 0, 0, 0, 0, 0, 0, 0, 0, 0, 0, 0, 0, 0]\n",
            "Solok   [0, 0, 0, 0, 0, 0, 0, 0, 0, 0, 0, 60, 0, 50, 0]\n",
            "SolokSelatan   [0, 0, 0, 0, 0, 0, 0, 0, 0, 0, 0, 0, 0, 0, 0]\n",
            "Batusangka   [90, 0, 60, 0, 0, 0, 0, 0, 0, 0, 0, 0, 0, 0, 0]\n",
            "Sawahlunto   [0, 0, 0, 0, 0, 100, 0, 0, 0, 0, 0, 30, 0, 0, 0]\n",
            "Mentawai   [0, 0, 0, 0, 0, 0, 0, 0, 0, 0, 0, 0, 0, 0, 0]\n",
            "Pasaman   [0, 0, 0, 0, 0, 0, 0, 0, 60, 0, 0, 0, 0, 0, 0]\n",
            "Payakumbuh   [0, 0, 80, 0, 0, 0, 0, 0, 0, 0, 0, 0, 0, 60, 0]\n",
            "Padang   [0, 0, 0, 0, 0, 0, 0, 0, 0, 0, 0, 0, 0, 0, 0]\n",
            "Pessel   [0, 0, 0, 0, 0, 0, 0, 0, 0, 0, 0, 0, 0, 0, 0]\n",
            "PadangPanjang   [0, 0, 0, 0, 0, 0, 0, 0, 0, 80, 0, 0, 30, 0, 0]\n",
            "Dharmasraya   [0, 0, 0, 0, 0, 0, 0, 0, 0, 0, 0, 0, 0, 0, 0]\n",
            "Pariaman   [0, 0, 0, 0, 0, 0, 0, 0, 0, 0, 0, 0, 0, 0, 0]\n",
            "Sijunjung   [0, 0, 0, 0, 0, 0, 0, 0, 0, 0, 0, 0, 0, 0, 0]\n",
            "Bukittinggi   [0, 0, 0, 0, 0, 0, 0, 0, 30, 0, 0, 0, 40, 0, 0]\n"
          ]
        }
      ]
    },
    {
      "cell_type": "code",
      "metadata": {
        "colab": {
          "base_uri": "https://localhost:8080/"
        },
        "id": "sxG2jODUTiNy",
        "outputId": "0f3f2eb7-d991-443f-d592-cb2eff6fa6cf"
      },
      "source": [
        "#search algorithms DFS\n",
        "graph = dict()\n",
        "for i in total_states:\n",
        "  b = []\n",
        "  for k in total_states:\n",
        "    if (matrix[values[i]][values[k]] != 0):\n",
        "      b.append(total_states[values[k]])\n",
        "  graph[i] = b\n",
        "visited = set() \n",
        "print(\"The visited nodes are: \",end='')\n",
        "def dfs(visited, graph, node):\n",
        "    if node not in visited:\n",
        "        print (node,end = \" \")\n",
        "        visited.add(node)\n",
        "        for neighbour in graph[node]:\n",
        "            dfs(visited, graph, neighbour)\n",
        "\n",
        "dfs(visited, graph, start)"
      ],
      "execution_count": 39,
      "outputs": [
        {
          "output_type": "stream",
          "name": "stdout",
          "text": [
            "The visited nodes are: Pasaman Padang "
          ]
        }
      ]
    },
    {
      "cell_type": "code",
      "metadata": {
        "colab": {
          "base_uri": "https://localhost:8080/"
        },
        "id": "ociInQkGUem1",
        "outputId": "d849cc21-2335-423c-e1c9-9daeab594ce8"
      },
      "source": [
        "#search algorithms BFS\n",
        "visited = [] \n",
        "queue = []     \n",
        "def bfs(visited, graph, node):\n",
        "  visited.append(node)\n",
        "  queue.append(node)\n",
        "  print(\"The visited nodes are: \",end='')\n",
        "  while queue:\n",
        "    s = queue.pop(0) \n",
        "    print (s,end=\" \") \n",
        "    for neighbour in graph[s]:\n",
        "      if neighbour not in visited:\n",
        "        visited.append(neighbour)\n",
        "        queue.append(neighbour)\n",
        "\n",
        "bfs(visited, graph, start)"
      ],
      "execution_count": 40,
      "outputs": [
        {
          "output_type": "stream",
          "name": "stdout",
          "text": [
            "The visited nodes are: Pasaman Padang "
          ]
        }
      ]
    }
  ]
}